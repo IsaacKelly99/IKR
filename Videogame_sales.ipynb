{
  "nbformat": 4,
  "nbformat_minor": 0,
  "metadata": {
    "colab": {
      "name": "Videogame_sales.ipynb",
      "provenance": [],
      "collapsed_sections": [],
      "mount_file_id": "1yXnWSaO_pdrZDTQ0a2Spepaz8rdTa43f",
      "authorship_tag": "ABX9TyM6n848v7fO0YD98gctPUcX"
    },
    "kernelspec": {
      "name": "python3",
      "display_name": "Python 3"
    },
    "language_info": {
      "name": "python"
    }
  },
  "cells": [
    {
      "cell_type": "markdown",
      "metadata": {
        "id": "RaN4QFOfmGAt"
      },
      "source": [
        "# Videogame sales, classification and prediction \n",
        "(work in progress)\n",
        "## Deep learning\n",
        "I will build a model to predict the sales of a game based on its name, console, genre, year and publisher, and whether or not it will win an award, using a X input and two outputs keras model"
      ]
    },
    {
      "cell_type": "code",
      "metadata": {
        "id": "ER5CeJUmlgru"
      },
      "source": [
        "import pandas as pd\n",
        "import numpy as np\n",
        "from numpy import unique\n",
        "from sklearn.impute import KNNImputer\n",
        "from sklearn.preprocessing import LabelEncoder\n",
        "from sklearn.model_selection import train_test_split\n",
        "from keras.layers import Input, Dense, LSTM, Dropout, Concatenate\n",
        "from keras.models import Model\n",
        "import matplotlib.pyplot as plt\n",
        "from keras.utils import plot_model\n"
      ],
      "execution_count": null,
      "outputs": []
    },
    {
      "cell_type": "code",
      "metadata": {
        "id": "5zkk2Tv0l-gm",
        "colab": {
          "base_uri": "https://localhost:8080/",
          "height": 323
        },
        "outputId": "294fb60f-0184-49e8-addc-7454a8db8696"
      },
      "source": [
        "df = pd.read_excel(\"/content/drive/MyDrive/data_for_colab/vgsales.xlsx\")\n",
        "# First glimpse into the dataset\n",
        "df.head()"
      ],
      "execution_count": null,
      "outputs": [
        {
          "output_type": "execute_result",
          "data": {
            "text/html": [
              "<div>\n",
              "<style scoped>\n",
              "    .dataframe tbody tr th:only-of-type {\n",
              "        vertical-align: middle;\n",
              "    }\n",
              "\n",
              "    .dataframe tbody tr th {\n",
              "        vertical-align: top;\n",
              "    }\n",
              "\n",
              "    .dataframe thead th {\n",
              "        text-align: right;\n",
              "    }\n",
              "</style>\n",
              "<table border=\"1\" class=\"dataframe\">\n",
              "  <thead>\n",
              "    <tr style=\"text-align: right;\">\n",
              "      <th></th>\n",
              "      <th>Name</th>\n",
              "      <th>Console</th>\n",
              "      <th>Year</th>\n",
              "      <th>Genre</th>\n",
              "      <th>Publisher</th>\n",
              "      <th>NorthAmerica_Sales</th>\n",
              "      <th>Europe_Sales</th>\n",
              "      <th>Japan_Sales</th>\n",
              "      <th>RestofWorld_Sales</th>\n",
              "      <th>Total_Sales</th>\n",
              "      <th>Consumer_rating</th>\n",
              "      <th>Won_an_award</th>\n",
              "    </tr>\n",
              "  </thead>\n",
              "  <tbody>\n",
              "    <tr>\n",
              "      <th>0</th>\n",
              "      <td>2002 FIFA World Cup</td>\n",
              "      <td>PS2</td>\n",
              "      <td>year 2002</td>\n",
              "      <td>Sports</td>\n",
              "      <td>Electronic Arts</td>\n",
              "      <td>0.21</td>\n",
              "      <td>0.17</td>\n",
              "      <td>0.16</td>\n",
              "      <td>0.06</td>\n",
              "      <td>0.59</td>\n",
              "      <td>79</td>\n",
              "      <td>did not win</td>\n",
              "    </tr>\n",
              "    <tr>\n",
              "      <th>1</th>\n",
              "      <td>2002 FIFA World Cup</td>\n",
              "      <td>XB</td>\n",
              "      <td>year 2002</td>\n",
              "      <td>Sports</td>\n",
              "      <td>Electronic Arts</td>\n",
              "      <td>0.14</td>\n",
              "      <td>0.04</td>\n",
              "      <td>0.00</td>\n",
              "      <td>0.01</td>\n",
              "      <td>0.19</td>\n",
              "      <td>40</td>\n",
              "      <td>did not win</td>\n",
              "    </tr>\n",
              "    <tr>\n",
              "      <th>2</th>\n",
              "      <td>2002 FIFA World Cup</td>\n",
              "      <td>GC</td>\n",
              "      <td>year 2002</td>\n",
              "      <td>Sports</td>\n",
              "      <td>Electronic Arts</td>\n",
              "      <td>0.04</td>\n",
              "      <td>0.01</td>\n",
              "      <td>0.00</td>\n",
              "      <td>0.00</td>\n",
              "      <td>0.05</td>\n",
              "      <td>28</td>\n",
              "      <td>did not win</td>\n",
              "    </tr>\n",
              "    <tr>\n",
              "      <th>3</th>\n",
              "      <td>2010 FIFA World Cup South Africa</td>\n",
              "      <td>PS3</td>\n",
              "      <td>year 2010</td>\n",
              "      <td>Sports</td>\n",
              "      <td>Electronic Arts</td>\n",
              "      <td>0.30</td>\n",
              "      <td>0.64</td>\n",
              "      <td>0.07</td>\n",
              "      <td>0.22</td>\n",
              "      <td>1.23</td>\n",
              "      <td>82</td>\n",
              "      <td>won</td>\n",
              "    </tr>\n",
              "    <tr>\n",
              "      <th>4</th>\n",
              "      <td>2010 FIFA World Cup South Africa</td>\n",
              "      <td>X360</td>\n",
              "      <td>year 2010</td>\n",
              "      <td>Sports</td>\n",
              "      <td>Electronic Arts</td>\n",
              "      <td>0.32</td>\n",
              "      <td>0.43</td>\n",
              "      <td>0.02</td>\n",
              "      <td>0.09</td>\n",
              "      <td>0.86</td>\n",
              "      <td>52</td>\n",
              "      <td>did not win</td>\n",
              "    </tr>\n",
              "  </tbody>\n",
              "</table>\n",
              "</div>"
            ],
            "text/plain": [
              "                               Name Console  ... Consumer_rating Won_an_award\n",
              "0               2002 FIFA World Cup     PS2  ...              79  did not win\n",
              "1               2002 FIFA World Cup      XB  ...              40  did not win\n",
              "2               2002 FIFA World Cup      GC  ...              28  did not win\n",
              "3  2010 FIFA World Cup South Africa     PS3  ...              82          won\n",
              "4  2010 FIFA World Cup South Africa    X360  ...              52  did not win\n",
              "\n",
              "[5 rows x 12 columns]"
            ]
          },
          "metadata": {
            "tags": []
          },
          "execution_count": 109
        }
      ]
    },
    {
      "cell_type": "code",
      "metadata": {
        "colab": {
          "base_uri": "https://localhost:8080/",
          "height": 297
        },
        "id": "VYwBmU_Nqail",
        "outputId": "1aa1a9df-cfae-4ac1-acf0-b29f7ebf075e"
      },
      "source": [
        "df.describe()\n",
        "# in Japan sales, its not possible to have negative sales therefore i need to correct that column"
      ],
      "execution_count": null,
      "outputs": [
        {
          "output_type": "execute_result",
          "data": {
            "text/html": [
              "<div>\n",
              "<style scoped>\n",
              "    .dataframe tbody tr th:only-of-type {\n",
              "        vertical-align: middle;\n",
              "    }\n",
              "\n",
              "    .dataframe tbody tr th {\n",
              "        vertical-align: top;\n",
              "    }\n",
              "\n",
              "    .dataframe thead th {\n",
              "        text-align: right;\n",
              "    }\n",
              "</style>\n",
              "<table border=\"1\" class=\"dataframe\">\n",
              "  <thead>\n",
              "    <tr style=\"text-align: right;\">\n",
              "      <th></th>\n",
              "      <th>NorthAmerica_Sales</th>\n",
              "      <th>Europe_Sales</th>\n",
              "      <th>Japan_Sales</th>\n",
              "      <th>RestofWorld_Sales</th>\n",
              "      <th>Total_Sales</th>\n",
              "      <th>Consumer_rating</th>\n",
              "    </tr>\n",
              "  </thead>\n",
              "  <tbody>\n",
              "    <tr>\n",
              "      <th>count</th>\n",
              "      <td>16591.000000</td>\n",
              "      <td>15984.000000</td>\n",
              "      <td>16622.000000</td>\n",
              "      <td>16225.000000</td>\n",
              "      <td>16241.000000</td>\n",
              "      <td>16622.00000</td>\n",
              "    </tr>\n",
              "    <tr>\n",
              "      <th>mean</th>\n",
              "      <td>0.262971</td>\n",
              "      <td>0.154686</td>\n",
              "      <td>0.034845</td>\n",
              "      <td>0.049255</td>\n",
              "      <td>0.550436</td>\n",
              "      <td>38.64932</td>\n",
              "    </tr>\n",
              "    <tr>\n",
              "      <th>std</th>\n",
              "      <td>0.822267</td>\n",
              "      <td>0.573460</td>\n",
              "      <td>1.920738</td>\n",
              "      <td>0.190720</td>\n",
              "      <td>1.573293</td>\n",
              "      <td>25.61324</td>\n",
              "    </tr>\n",
              "    <tr>\n",
              "      <th>min</th>\n",
              "      <td>0.000000</td>\n",
              "      <td>0.000000</td>\n",
              "      <td>-123.000000</td>\n",
              "      <td>0.000000</td>\n",
              "      <td>0.010000</td>\n",
              "      <td>0.00000</td>\n",
              "    </tr>\n",
              "    <tr>\n",
              "      <th>25%</th>\n",
              "      <td>0.000000</td>\n",
              "      <td>0.000000</td>\n",
              "      <td>0.000000</td>\n",
              "      <td>0.000000</td>\n",
              "      <td>0.070000</td>\n",
              "      <td>17.00000</td>\n",
              "    </tr>\n",
              "    <tr>\n",
              "      <th>50%</th>\n",
              "      <td>0.080000</td>\n",
              "      <td>0.020000</td>\n",
              "      <td>0.000000</td>\n",
              "      <td>0.010000</td>\n",
              "      <td>0.180000</td>\n",
              "      <td>36.00000</td>\n",
              "    </tr>\n",
              "    <tr>\n",
              "      <th>75%</th>\n",
              "      <td>0.240000</td>\n",
              "      <td>0.120000</td>\n",
              "      <td>0.040000</td>\n",
              "      <td>0.040000</td>\n",
              "      <td>0.490000</td>\n",
              "      <td>59.00000</td>\n",
              "    </tr>\n",
              "    <tr>\n",
              "      <th>max</th>\n",
              "      <td>41.490000</td>\n",
              "      <td>29.020000</td>\n",
              "      <td>10.220000</td>\n",
              "      <td>10.570000</td>\n",
              "      <td>82.740000</td>\n",
              "      <td>100.00000</td>\n",
              "    </tr>\n",
              "  </tbody>\n",
              "</table>\n",
              "</div>"
            ],
            "text/plain": [
              "       NorthAmerica_Sales  Europe_Sales  ...   Total_Sales  Consumer_rating\n",
              "count        16591.000000  15984.000000  ...  16241.000000      16622.00000\n",
              "mean             0.262971      0.154686  ...      0.550436         38.64932\n",
              "std              0.822267      0.573460  ...      1.573293         25.61324\n",
              "min              0.000000      0.000000  ...      0.010000          0.00000\n",
              "25%              0.000000      0.000000  ...      0.070000         17.00000\n",
              "50%              0.080000      0.020000  ...      0.180000         36.00000\n",
              "75%              0.240000      0.120000  ...      0.490000         59.00000\n",
              "max             41.490000     29.020000  ...     82.740000        100.00000\n",
              "\n",
              "[8 rows x 6 columns]"
            ]
          },
          "metadata": {
            "tags": []
          },
          "execution_count": 110
        }
      ]
    },
    {
      "cell_type": "code",
      "metadata": {
        "colab": {
          "base_uri": "https://localhost:8080/"
        },
        "id": "JJwtJmL_yf6j",
        "outputId": "dc548168-865e-480d-a35c-af6cf9934b18"
      },
      "source": [
        "# Using mask to change the values lower than 0 to nans\n",
        "df[\"Japan_Sales\"] = df[\"Japan_Sales\"].mask(df[\"Japan_Sales\"] < 0)\n",
        "# Obtain minimum value from the column, it should be 0\n",
        "df[\"Japan_Sales\"].min()"
      ],
      "execution_count": null,
      "outputs": [
        {
          "output_type": "execute_result",
          "data": {
            "text/plain": [
              "0.0"
            ]
          },
          "metadata": {
            "tags": []
          },
          "execution_count": 111
        }
      ]
    },
    {
      "cell_type": "code",
      "metadata": {
        "colab": {
          "base_uri": "https://localhost:8080/"
        },
        "id": "NoiK9qRsmgYA",
        "outputId": "93a14340-c1f9-4c44-fccd-060e45dfb0b2"
      },
      "source": [
        "# Check the datatypes of the columns\n",
        "print(df.dtypes)\n",
        "#Drop the duplicates (if we have any)\n",
        "df.drop_duplicates(inplace=True)\n",
        "# We have mistaken datatypes and many na's"
      ],
      "execution_count": null,
      "outputs": [
        {
          "output_type": "stream",
          "text": [
            "Name                   object\n",
            "Console                object\n",
            "Year                   object\n",
            "Genre                  object\n",
            "Publisher              object\n",
            "NorthAmerica_Sales    float64\n",
            "Europe_Sales          float64\n",
            "Japan_Sales           float64\n",
            "RestofWorld_Sales     float64\n",
            "Total_Sales           float64\n",
            "Consumer_rating         int64\n",
            "Won_an_award           object\n",
            "dtype: object\n"
          ],
          "name": "stdout"
        }
      ]
    },
    {
      "cell_type": "code",
      "metadata": {
        "colab": {
          "base_uri": "https://localhost:8080/"
        },
        "id": "5_4eQ11vpBEY",
        "outputId": "9ab9952b-b546-49ed-a19f-1436cd455589"
      },
      "source": [
        "# correcting the year datatype\n",
        "df['Year'] = pd.to_numeric(df['Year'].str.replace('year', ''))\n",
        "print(df[\"Year\"].dtypes)"
      ],
      "execution_count": null,
      "outputs": [
        {
          "output_type": "stream",
          "text": [
            "float64\n"
          ],
          "name": "stdout"
        }
      ]
    },
    {
      "cell_type": "code",
      "metadata": {
        "colab": {
          "base_uri": "https://localhost:8080/"
        },
        "id": "FmeFGob-ni91",
        "outputId": "ed105ca5-6765-4d15-d96c-9ea35dd290e5"
      },
      "source": [
        "df2 = df[[\"Console\",\"Genre\",\"Publisher\", \"Won_an_award\",\"Name\"]]\n",
        "for column in df2:\n",
        "  print( column, \"unique values:\" ,df[column].unique())"
      ],
      "execution_count": null,
      "outputs": [
        {
          "output_type": "stream",
          "text": [
            "Console unique values: ['PS2' 'XB' 'GC' 'PS3' 'X360' 'PSP' 'Wii' 'DS' 'N64' 'NES' 'PC' 'PS' '3DS'\n",
            " 'GBA' 'PSV' 'PS4' 'XOne' 'SNES' 2600 'WiiU' 'SAT' 'GB' 'NG' 'GEN' 'PCFX'\n",
            " 'DC' '3DO' 'WS' 'TG16' 'SCD' 'GG']\n",
            "Genre unique values: ['     Sports' 'Sports' 'Adventure' 'Shooter' 'Role-Playing' 'Action'\n",
            " '   Action' 'Racing' 'Misc' '     Puzzle' 'Simulation' 'Platform'\n",
            " 'Puzzle' 'Strategy' 'Fighting']\n",
            "Publisher unique values: ['Electronic Arts' 'Capcom' 'Quinrose' 'GT Interactive'\n",
            " 'Namco Bandai Games' 'Atari' 'Activision' 'DSI Games' 'Kaga Create'\n",
            " 'Ubisoft' 'nintendo' 'Rondomedia' 'Nintendo' 'Avanquest' 'Nordcurrent'\n",
            " '5pb' 'CyberFront' 'Happinet' 'DTP Entertainment' 'Deep Silver'\n",
            " 'Acclaim Entertainment' 'THQ' 'Sega' 'Sony Computer Entertainment'\n",
            " 'Eidos Interactive' 'Warner Bros. Interactive Entertainment'\n",
            " 'BMG Interactive Entertainment' 'SouthPeak Games' 'Psygnosis'\n",
            " 'Avalon Interactive' '989 Studios' 'Mastertronic' 'Spike'\n",
            " 'Gathering of Developers' 'Vivendi Games' 'Destineer'\n",
            " 'Avanquest Software' 'Telltale Games' 'Funsta' 'Mumbo Jumbo'\n",
            " 'Magical Company' 'ChunSoft' 'Majesco Entertainment'\n",
            " 'Focus Home Interactive' 'Pack-In-Video' 'ArtDink' 'Crimson Cow'\n",
            " 'Nippon Ichi Software' 'Banpresto' '505 Games' 'Marvelous Interactive'\n",
            " 'Asgard' 'MTV Games' 'Sony Computer Entertainment Europe' 'Mamba Games'\n",
            " 'Take-Two Interactive' 'CPG Products' nan 'Gremlin Interactive Ltd'\n",
            " 'Konami Digital Entertainment' 'Hudson Soft' 'D3Publisher' 'Little Orbit'\n",
            " 'HAL Laboratory' 'Mattel Interactive' 'Zushi Games' 'Idea Factory'\n",
            " 'PQube' 'ASCII Entertainment' 'Video System' 'Unknown' 'Ackkstudios'\n",
            " 'DreamCatcher Interactive' 'The Adventure Company' 'Big Fish Games'\n",
            " 'JoWood Productions' 'Microids' 'Funcom' 'Microsoft Game Studios'\n",
            " 'MICROSOFT GAME STUDIOS' 'Virgin Interactive' 'Tecmo Koei' 'Prototype'\n",
            " 'Graffiti' 'bitComposer Games' 'Men-A-Vision' 'Ertain'\n",
            " 'Playlogic Game Factory' 'Interplay' 'Kalypso Media' 'Data Age' 'Cygames'\n",
            " 'Alchemist' 'Cave' 'GN Software' 'Acquire' 'Taito' 'Big Ben Interactive'\n",
            " 'Nordic Games' 'Black Bean Games' 'dramatic create'\n",
            " 'Disney Interactive Studios' '20th Century Fox Video Games'\n",
            " 'Zoo Digital Publishing' 'O3 Entertainment' 'Fox Interactive'\n",
            " 'ITT Family Games' 'SquareSoft' 'SSI' 'Infogrames' 'Brash Entertainment'\n",
            " 'Kadokawa Shoten' 'Enterbrain' 'Kadokawa Games' 'PopCap Games'\n",
            " 'Victor Interactive' 'Starfish' 'Codemasters' 'Crave Entertainment'\n",
            " 'Mud Duck Productions' 'Bethesda Softworks' 'Vir2L Studios'\n",
            " 'Conspiracy Entertainment' 'On Demand' 'Natsume' 'Empire Interactive'\n",
            " 'ASC Games' 'Ignition Entertainment' 'Lexicon Entertainment' 'Touchstone'\n",
            " 'Metro 3D' 'Success' 'Just Flight' 'RTL' 'Iceberg Interactive' '3DO'\n",
            " 'Neko Entertainment' 'Midway Games' 'TDK Mediactive' 'Aqua Plus'\n",
            " 'Mercury Games' 'Hamster Corporation' 'Zoo Games' 'Comfort'\n",
            " 'AQ Interactive' 'Arc System Works' 'Mindscape' 'Square Enix'\n",
            " 'Bohemia Interactive' 'LucasArts' 'From Software' 'Indie Games' 'Agetec'\n",
            " 'Global Star' 'Midas Interactive Entertainment' 'UFO Interactive' 'PlayV'\n",
            " 'Hip Interactive' 'NINTENDO' 'SNK' 'The Learning Company' 'Bomb'\n",
            " 'Electronic Arts Victor' 'Rising Star Games' 'Telstar' 'Gust' 'Imagic'\n",
            " 'Screenlife' 'Storm City Games' 'Destination Software, Inc'\n",
            " 'Liquid Games' 'Titus' 'Licensed 4U' 'Inti Creates'\n",
            " 'Marvelous Entertainment' 'Human Entertainment' 'Jaleco' 'CTO SpA'\n",
            " 'BAM! Entertainment' 'Genki' 'Universal Interactive'\n",
            " 'Knowledge Adventure' 'XS Games' 'Griffin International'\n",
            " 'Seta Corporation' 'Kemco' 'Popcorn Arcade' 'TopWare Interactive' 'Aspyr'\n",
            " 'Koch Media' 'Accolade' 'ASK' 'Imagineer' 'Xplosiv' 'Gotham Games'\n",
            " 'Game Factory' 'Rocket Company' 'Angel Studios' 'Pony Canyon'\n",
            " 'NEC Interchannel' 'Sunsoft' 'Sting' 'Crystal Dynamics'\n",
            " 'Ascaron Entertainment GmbH' 'Pow' 'NEC' 'Valcon Games'\n",
            " 'Hudson Entertainment' 'Daedalic Entertainment' '10TACLE Studios' 'New'\n",
            " 'JVC' 'Number None' 'Coconuts Japan' 'Falcom Corporation' 'Sears'\n",
            " 'Hasbro Interactive' 'Laguna' 'Atlus' 'Revolution Software'\n",
            " 'GameMill Entertainment' 'EON Digital Entertainment' 'FuRyu' 'FunSoft'\n",
            " 'Astragon' 'Enix Corporation' 'Micro Cabin' 'Activision Value' 'Moss'\n",
            " 'Virtual Play Games' 'Reef Entertainment' 'Stainless Games' 'Coleco'\n",
            " 'Nobilis' 'TDK Core' 'Blast! Entertainment Ltd' 'Play It'\n",
            " 'Foreign Media Games' 'CDV Software Entertainment' 'Oxygen Interactive'\n",
            " 'O-Games' 'Sony Online Entertainment' 'Epoch' 'Phoenix Games'\n",
            " 'City Interactive' 'Takara' 'Compile Heart' 'IE Institute'\n",
            " 'Paradox Interactive' 'Paradox Development' 'Monte Christo Multimedia'\n",
            " 'Interchannel' 'Level 5' 'Agatsuma Entertainment' 'Quintet' 'Axela'\n",
            " 'Westwood Studios' 'SCi' 'Office Create' 'UEP Systems'\n",
            " 'Global A Entertainment' 'Mentor Interactive' 'Strategy First'\n",
            " 'Funbox Media' 'Phenomedia' 'Vic Tokai' 'Summitsoft' 'LSP Games'\n",
            " 'Easy Interactive' 'Mystique' 'Sweets' \"Yuke's\" 'Kool Kizz'\n",
            " 'Paon Corporation' 'Paon' 'Daito' 'Mad Catz' 'Ghostlight'\n",
            " 'Focus Multimedia' 'Phantom EFX' 'Ubisoft Annecy' 'Navarre Corp'\n",
            " 'Cloud Imperium Games Corporation' 'Mastiff' 'Maximum Family Games'\n",
            " 'Trion Worlds' 'NovaLogic' 'Experience Inc.' 'ASCII Media Works'\n",
            " 'Rage Software' 'Daedalic' 'Asmik Corp' 'Media Factory'\n",
            " 'Interplay Productions' 'Imadio' 'BushiRoad' 'Havas Interactive'\n",
            " 'NDA Productions' 'Views' 'Excalibur Publishing' 'Scholastic Inc.'\n",
            " 'PM Studios' 'Asylum Entertainment' 'SNK Playmore' 'GungHo'\n",
            " 'Irem Software Engineering' 'Tru Blu Entertainment' 'Pinnacle'\n",
            " 'id Software' 'NewKidCo' 'Shogakukan' 'Data East' 'CokeM Interactive'\n",
            " 'Flight-Plan' 'Nitroplus' 'Tivola' 'BPS' 'Xseed Games' 'Game Life'\n",
            " 'DigiCube' 'New World Computing' 'Swing! Entertainment' 'Quelle'\n",
            " 'SCS Software' 'CCP' 'Aksys Games' 'Ocean' 'ValuSoft' 'Ivolgamus'\n",
            " 'Piacci' 'Idea Factory International' 'Graphsim Entertainment'\n",
            " 'Alawar Entertainment' 'UIG Entertainment' 'MTO' 'Wanadoo' 'Type-Moon'\n",
            " 'System 3 Arcade Software' 'KID' 'Princess Soft' 'Square EA' 'Square'\n",
            " 'Starpath Corp.' 'Culture Brain' 'Parker Bros.' 'Jester Interactive'\n",
            " 'Benesse' 'Russel' 'Gakken' 'Kids Station' 'Broccoli' 'Sammy Corporation'\n",
            " 'Athena' 'Answer Software' 'Fields' 'P2 Games' '7G//AMES'\n",
            " 'Essential Games' 'WayForward Technologies' 'ESP' 'Encore'\n",
            " 'Sunrise Interactive' 'NCSoft' 'RedOctane' 'Gameloft' 'Microprose'\n",
            " 'Gamecock' 'Grand Prix Games' 'Wizard Video Games' 'Jorudan'\n",
            " 'Bigben Interactive' 'SPS' 'T&E Soft' 'Pack In Soft' 'Societa'\n",
            " 'Culture Publishers' 'GSP' 'Vap' 'Nippon Columbia' 'Jack of All Games'\n",
            " 'Max Five' 'Legacy Interactive' 'Masque Publishing' 'Blue Byte' 'Tommo'\n",
            " 'Telegames' 'HuneX' 'Saurus' 'Boost On' 'Tigervision' 'GameTek' 'iWin'\n",
            " 'TYO' 'Takara Tomy' 'U.S. Gold' 'Home Entertainment Suppliers' 'Commseed'\n",
            " 'Fortyfive' 'Xing Entertainment' 'Elf' 'Seventh Chord' 'Ultravision'\n",
            " 'Data Design Interactive' 'Misawa' 'Arika' 'Minato Station' '1C Company'\n",
            " 'Creative Core' 'Giga' 'TGL' 'Mitsui' 'Sunflowers' 'Yeti' 'Groove Games'\n",
            " 'NCS' 'Extreme Entertainment Group' 'Valve Software' 'LEGO Media'\n",
            " 'FuRyu Corporation' 'DHM Interactive' 'Tomy Corporation'\n",
            " 'Pacific Century Cyber Works' 'Marvel Entertainment' 'Game Arts'\n",
            " 'Media Rings' 'Berkeley' 'Compile' 'Illusion Softworks' 'Evolved Games'\n",
            " 'G.Rev' 'Abylight' 'Nexon' 'Edia' 'Ecole' 'Xicat Interactive' 'Rebellion'\n",
            " 'Slitherine Software' 'Nippon Amuse' 'Mojang' 'Dorart' 'Zenrin'\n",
            " 'Sony Computer Entertainment America' 'System Soft' 'Mirai Shounen'\n",
            " 'mixi, Inc' 'Arena Entertainment' 'Milestone S.r.l.' 'CBS Electronics'\n",
            " 'Magix' 'Red Orb' 'Media Works' 'Her Interactive'\n",
            " 'Dusenberry Martin Racing' 'Pioneer LDC' 'Otomate' 'Naxat Soft'\n",
            " 'Nihon Falcom Corporation' '989 Sports' 'Marvelous Games' 'Nichibutsu'\n",
            " 'Fuji' 'Sonnet' 'KSS' 'Hello Games' 'MC2 Entertainment' 'Giza10'\n",
            " 'Simon & Schuster Interactive' 'Evolution Games' 'Hackberry' 'Aruze Corp'\n",
            " 'Syscom' 'Media Entertainment' 'Interchannel-Holon' 'Epic Games'\n",
            " 'Nippon Telenet' 'American Softworks' 'Phantagram'\n",
            " 'Time Warner Interactive' 'Altron' 'Vatical Entertainment' 'Valve'\n",
            " 'Alvion' 'Aques' 'Introversion Software' 'Interworks Unlimited, Inc.'\n",
            " 'Slightly Mad Studios' 'General Entertainment' 'System 3' 'Plenty'\n",
            " 'Glams' 'MLB.com' 'Ongakukan' 'PopTop Software' 'TOHO' 'Warp'\n",
            " 'Kando Games' 'Tripwire Interactive' 'Aerosoft'\n",
            " 'Kokopeli Digital Studios' 'Harmonix Music Systems' 'Datam Polystar'\n",
            " 'Red Storm Entertainment' 'Alternative Software' 'Milestone S.r.l'\n",
            " 'RED Entertainment' 'Kamui' 'Devolver Digital' 'King Records' 'Intergrow'\n",
            " 'Core Design Ltd.' 'Takuyo' 'Gainax Network Systems'\n",
            " 'Lighthouse Interactive' 'Gaga' 'Yacht Club Games' 'Merscom LLC'\n",
            " 'Asmik Ace Entertainment' 'Maxis' 'DreamWorks Interactive' 'Image Epoch'\n",
            " 'Insomniac Games' 'imageepoch Inc.' 'Hearty Robin' 'Riverhillsoft'\n",
            " 'Imageworks' 'Panther Software' 'Sony Music Entertainment' 'TalonSoft'\n",
            " 'Performance Designed Products' 'Myelin Media' 'Elite' 'Mycom' '49Games'\n",
            " 'Flashpoint Games' 'Technos Japan Corporation' 'Imax' 'EA Games'\n",
            " 'Enjoy Gaming ltd.' 'Quest' 'Palcom' 'Yumedia' 'Rain Games'\n",
            " 'Tetris Online' 'HMH Interactive' 'Visco' 'Headup Games' 'Playmore'\n",
            " 'Codemasters Online' 'Black Label Games' 'Ascaron Entertainment' 'Hect'\n",
            " 'TechnoSoft' 'Adeline Software' 'Warashi' 'Revolution (Japan)' 'NetRevo'\n",
            " 'Detn8 Games' 'Milestone' 'Genterprise' 'Playmates' 'GOA'\n",
            " 'inXile Entertainment' 'Gamebridge' 'Origin Systems' 'Tradewest'\n",
            " 'Michaelsoft' 'Locus' 'White Park Bay Software' 'fonfun' '2D Boy'\n",
            " 'Wargaming.net' 'Activision Blizzard' 'Team17 Software' 'Sold Out'\n",
            " 'Tryfirst' 'Universal Gamex' 'Yamasa Entertainment' 'Aria' 'responDESIGN'\n",
            " 'Karin Entertainment' 'Rebellion Developments' 'MediaQuest']\n",
            "Won_an_award unique values: ['did not win' 'won']\n",
            "Name unique values: ['2002 FIFA World Cup' '2010 FIFA World Cup South Africa'\n",
            " '2014 FIFA World Cup Brazil' ... 'Zumba Fitness: World Party' 'Zwei!!'\n",
            " 'Zyuden Sentai Kyoryuger: Game de Gaburincho!!']\n"
          ],
          "name": "stdout"
        }
      ]
    },
    {
      "cell_type": "code",
      "metadata": {
        "colab": {
          "base_uri": "https://localhost:8080/"
        },
        "id": "XOxFgikQ7uD6",
        "outputId": "e5bd6044-42ac-4712-8c53-2b224276e1be"
      },
      "source": [
        "# In the genre column we have duplicated values, action and puzzle appear four times\n",
        "df[\"Genre\"] = df[\"Genre\"].str.strip()\n",
        "# Checking the correction\n",
        "df[\"Genre\"].unique()"
      ],
      "execution_count": null,
      "outputs": [
        {
          "output_type": "execute_result",
          "data": {
            "text/plain": [
              "array(['Sports', 'Adventure', 'Shooter', 'Role-Playing', 'Action',\n",
              "       'Racing', 'Misc', 'Puzzle', 'Simulation', 'Platform', 'Strategy',\n",
              "       'Fighting'], dtype=object)"
            ]
          },
          "metadata": {
            "tags": []
          },
          "execution_count": 115
        }
      ]
    },
    {
      "cell_type": "code",
      "metadata": {
        "colab": {
          "base_uri": "https://localhost:8080/"
        },
        "id": "s_t-lJ9Wx1Um",
        "outputId": "7c7a573b-bf7f-4349-e37b-a9e36c8a64ab"
      },
      "source": [
        "#Check the Na's in the dataframe\n",
        "# Creating a function to check them\n",
        "def na_status(df):\n",
        "  total = df.isnull().sum().sort_values(ascending=False)\n",
        "  percent_1 = df.isnull().sum()/df.isnull().count()*100\n",
        "  percent_2 = (round(percent_1, 1)).sort_values(ascending=False)\n",
        "  missing_data = pd.concat([total, percent_2], axis=1, keys=['Total NaN', 'NaN %'])\n",
        "  print(missing_data.head(10))\n",
        "# Appliying the function to the df\n",
        "na_status(df)"
      ],
      "execution_count": null,
      "outputs": [
        {
          "output_type": "stream",
          "text": [
            "                    Total NaN  NaN %\n",
            "Europe_Sales              638    3.8\n",
            "RestofWorld_Sales         397    2.4\n",
            "Total_Sales               381    2.3\n",
            "Year                      271    1.6\n",
            "Publisher                  58    0.3\n",
            "Japan_Sales                49    0.3\n",
            "NorthAmerica_Sales         31    0.2\n",
            "Won_an_award                0    0.0\n",
            "Consumer_rating             0    0.0\n",
            "Genre                       0    0.0\n"
          ],
          "name": "stdout"
        }
      ]
    },
    {
      "cell_type": "code",
      "metadata": {
        "colab": {
          "base_uri": "https://localhost:8080/"
        },
        "id": "77A27ekH7gMs",
        "outputId": "ecbd0974-cca4-4eb6-c0c3-00230e9ef778"
      },
      "source": [
        "# instance of label encoder\n",
        "encoder = LabelEncoder()\n",
        "\n",
        "# Encoding the columns\n",
        "df[\"Publisher\"] = df[\"Publisher\"].replace(np.nan, \"missingvalue\")\n",
        "# Encoding the publisher column\n",
        "df[\"Publisher\"] = encoder.fit_transform(df[\"Publisher\"])\n",
        "# Creating a dictionary to find the key of missingvalue\n",
        "mapping = dict(zip(encoder.classes_, range(len(encoder.classes_)))) \n",
        "print(mapping) # Missingvalue its encoded as 578\n",
        "# Replacing 578 to np.nan\n",
        "df[\"Publisher\"] = df[\"Publisher\"].replace(578, np.nan) \n",
        "\n",
        "# Encoding the other columns\n",
        "df[\"Genre\"] = encoder.fit_transform(df[\"Genre\"])\n",
        "df[\"Won_an_award\"] = encoder.fit_transform(df[\"Won_an_award\"])\n",
        "df[\"Name\"] = encoder.fit_transform(df[\"Name\"].astype(str))\n",
        "df[\"Console\"] = encoder.fit_transform(df[\"Console\"].astype(str))\n",
        "df[\"Console\"].astype(\"category\")\n",
        "# Unique values in the columns\n",
        "for column in df2:\n",
        "  print( column, \"unique values:\" ,df[column].unique())"
      ],
      "execution_count": null,
      "outputs": [
        {
          "output_type": "stream",
          "text": [
            "{'10TACLE Studios': 0, '1C Company': 1, '20th Century Fox Video Games': 2, '2D Boy': 3, '3DO': 4, '49Games': 5, '505 Games': 6, '5pb': 7, '7G//AMES': 8, '989 Sports': 9, '989 Studios': 10, 'AQ Interactive': 11, 'ASC Games': 12, 'ASCII Entertainment': 13, 'ASCII Media Works': 14, 'ASK': 15, 'Abylight': 16, 'Acclaim Entertainment': 17, 'Accolade': 18, 'Ackkstudios': 19, 'Acquire': 20, 'Activision': 21, 'Activision Blizzard': 22, 'Activision Value': 23, 'Adeline Software': 24, 'Aerosoft': 25, 'Agatsuma Entertainment': 26, 'Agetec': 27, 'Aksys Games': 28, 'Alawar Entertainment': 29, 'Alchemist': 30, 'Alternative Software': 31, 'Altron': 32, 'Alvion': 33, 'American Softworks': 34, 'Angel Studios': 35, 'Answer Software': 36, 'Aqua Plus': 37, 'Aques': 38, 'Arc System Works': 39, 'Arena Entertainment': 40, 'Aria': 41, 'Arika': 42, 'ArtDink': 43, 'Aruze Corp': 44, 'Ascaron Entertainment': 45, 'Ascaron Entertainment GmbH': 46, 'Asgard': 47, 'Asmik Ace Entertainment': 48, 'Asmik Corp': 49, 'Aspyr': 50, 'Astragon': 51, 'Asylum Entertainment': 52, 'Atari': 53, 'Athena': 54, 'Atlus': 55, 'Avalon Interactive': 56, 'Avanquest': 57, 'Avanquest Software': 58, 'Axela': 59, 'BAM! Entertainment': 60, 'BMG Interactive Entertainment': 61, 'BPS': 62, 'Banpresto': 63, 'Benesse': 64, 'Berkeley': 65, 'Bethesda Softworks': 66, 'Big Ben Interactive': 67, 'Big Fish Games': 68, 'Bigben Interactive': 69, 'Black Bean Games': 70, 'Black Label Games': 71, 'Blast! Entertainment Ltd': 72, 'Blue Byte': 73, 'Bohemia Interactive': 74, 'Bomb': 75, 'Boost On': 76, 'Brash Entertainment': 77, 'Broccoli': 78, 'BushiRoad': 79, 'CBS Electronics': 80, 'CCP': 81, 'CDV Software Entertainment': 82, 'CPG Products': 83, 'CTO SpA': 84, 'Capcom': 85, 'Cave': 86, 'ChunSoft': 87, 'City Interactive': 88, 'Cloud Imperium Games Corporation': 89, 'Coconuts Japan': 90, 'Codemasters': 91, 'Codemasters Online': 92, 'CokeM Interactive': 93, 'Coleco': 94, 'Comfort': 95, 'Commseed': 96, 'Compile': 97, 'Compile Heart': 98, 'Conspiracy Entertainment': 99, 'Core Design Ltd.': 100, 'Crave Entertainment': 101, 'Creative Core': 102, 'Crimson Cow': 103, 'Crystal Dynamics': 104, 'Culture Brain': 105, 'Culture Publishers': 106, 'CyberFront': 107, 'Cygames': 108, 'D3Publisher': 109, 'DHM Interactive': 110, 'DSI Games': 111, 'DTP Entertainment': 112, 'Daedalic': 113, 'Daedalic Entertainment': 114, 'Daito': 115, 'Data Age': 116, 'Data Design Interactive': 117, 'Data East': 118, 'Datam Polystar': 119, 'Deep Silver': 120, 'Destination Software, Inc': 121, 'Destineer': 122, 'Detn8 Games': 123, 'Devolver Digital': 124, 'DigiCube': 125, 'Disney Interactive Studios': 126, 'Dorart': 127, 'DreamCatcher Interactive': 128, 'DreamWorks Interactive': 129, 'Dusenberry Martin Racing': 130, 'EA Games': 131, 'EON Digital Entertainment': 132, 'ESP': 133, 'Easy Interactive': 134, 'Ecole': 135, 'Edia': 136, 'Eidos Interactive': 137, 'Electronic Arts': 138, 'Electronic Arts Victor': 139, 'Elf': 140, 'Elite': 141, 'Empire Interactive': 142, 'Encore': 143, 'Enix Corporation': 144, 'Enjoy Gaming ltd.': 145, 'Enterbrain': 146, 'Epic Games': 147, 'Epoch': 148, 'Ertain': 149, 'Essential Games': 150, 'Evolution Games': 151, 'Evolved Games': 152, 'Excalibur Publishing': 153, 'Experience Inc.': 154, 'Extreme Entertainment Group': 155, 'Falcom Corporation': 156, 'Fields': 157, 'Flashpoint Games': 158, 'Flight-Plan': 159, 'Focus Home Interactive': 160, 'Focus Multimedia': 161, 'Foreign Media Games': 162, 'Fortyfive': 163, 'Fox Interactive': 164, 'From Software': 165, 'FuRyu': 166, 'FuRyu Corporation': 167, 'Fuji': 168, 'FunSoft': 169, 'Funbox Media': 170, 'Funcom': 171, 'Funsta': 172, 'G.Rev': 173, 'GN Software': 174, 'GOA': 175, 'GSP': 176, 'GT Interactive': 177, 'Gaga': 178, 'Gainax Network Systems': 179, 'Gakken': 180, 'Game Arts': 181, 'Game Factory': 182, 'Game Life': 183, 'GameMill Entertainment': 184, 'GameTek': 185, 'Gamebridge': 186, 'Gamecock': 187, 'Gameloft': 188, 'Gathering of Developers': 189, 'General Entertainment': 190, 'Genki': 191, 'Genterprise': 192, 'Ghostlight': 193, 'Giga': 194, 'Giza10': 195, 'Glams': 196, 'Global A Entertainment': 197, 'Global Star': 198, 'Gotham Games': 199, 'Graffiti': 200, 'Grand Prix Games': 201, 'Graphsim Entertainment': 202, 'Gremlin Interactive Ltd': 203, 'Griffin International': 204, 'Groove Games': 205, 'GungHo': 206, 'Gust': 207, 'HAL Laboratory': 208, 'HMH Interactive': 209, 'Hackberry': 210, 'Hamster Corporation': 211, 'Happinet': 212, 'Harmonix Music Systems': 213, 'Hasbro Interactive': 214, 'Havas Interactive': 215, 'Headup Games': 216, 'Hearty Robin': 217, 'Hect': 218, 'Hello Games': 219, 'Her Interactive': 220, 'Hip Interactive': 221, 'Home Entertainment Suppliers': 222, 'Hudson Entertainment': 223, 'Hudson Soft': 224, 'Human Entertainment': 225, 'HuneX': 226, 'IE Institute': 227, 'ITT Family Games': 228, 'Iceberg Interactive': 229, 'Idea Factory': 230, 'Idea Factory International': 231, 'Ignition Entertainment': 232, 'Illusion Softworks': 233, 'Imadio': 234, 'Image Epoch': 235, 'Imageworks': 236, 'Imagic': 237, 'Imagineer': 238, 'Imax': 239, 'Indie Games': 240, 'Infogrames': 241, 'Insomniac Games': 242, 'Interchannel': 243, 'Interchannel-Holon': 244, 'Intergrow': 245, 'Interplay': 246, 'Interplay Productions': 247, 'Interworks Unlimited, Inc.': 248, 'Inti Creates': 249, 'Introversion Software': 250, 'Irem Software Engineering': 251, 'Ivolgamus': 252, 'JVC': 253, 'Jack of All Games': 254, 'Jaleco': 255, 'Jester Interactive': 256, 'JoWood Productions': 257, 'Jorudan': 258, 'Just Flight': 259, 'KID': 260, 'KSS': 261, 'Kadokawa Games': 262, 'Kadokawa Shoten': 263, 'Kaga Create': 264, 'Kalypso Media': 265, 'Kamui': 266, 'Kando Games': 267, 'Karin Entertainment': 268, 'Kemco': 269, 'Kids Station': 270, 'King Records': 271, 'Knowledge Adventure': 272, 'Koch Media': 273, 'Kokopeli Digital Studios': 274, 'Konami Digital Entertainment': 275, 'Kool Kizz': 276, 'LEGO Media': 277, 'LSP Games': 278, 'Laguna': 279, 'Legacy Interactive': 280, 'Level 5': 281, 'Lexicon Entertainment': 282, 'Licensed 4U': 283, 'Lighthouse Interactive': 284, 'Liquid Games': 285, 'Little Orbit': 286, 'Locus': 287, 'LucasArts': 288, 'MC2 Entertainment': 289, 'MICROSOFT GAME STUDIOS': 290, 'MLB.com': 291, 'MTO': 292, 'MTV Games': 293, 'Mad Catz': 294, 'Magical Company': 295, 'Magix': 296, 'Majesco Entertainment': 297, 'Mamba Games': 298, 'Marvel Entertainment': 299, 'Marvelous Entertainment': 300, 'Marvelous Games': 301, 'Marvelous Interactive': 302, 'Masque Publishing': 303, 'Mastertronic': 304, 'Mastiff': 305, 'Mattel Interactive': 306, 'Max Five': 307, 'Maximum Family Games': 308, 'Maxis': 309, 'Media Entertainment': 310, 'Media Factory': 311, 'Media Rings': 312, 'Media Works': 313, 'MediaQuest': 314, 'Men-A-Vision': 315, 'Mentor Interactive': 316, 'Mercury Games': 317, 'Merscom LLC': 318, 'Metro 3D': 319, 'Michaelsoft': 320, 'Micro Cabin': 321, 'Microids': 322, 'Microprose': 323, 'Microsoft Game Studios': 324, 'Midas Interactive Entertainment': 325, 'Midway Games': 326, 'Milestone': 327, 'Milestone S.r.l': 328, 'Milestone S.r.l.': 329, 'Minato Station': 330, 'Mindscape': 331, 'Mirai Shounen': 332, 'Misawa': 333, 'Mitsui': 334, 'Mojang': 335, 'Monte Christo Multimedia': 336, 'Moss': 337, 'Mud Duck Productions': 338, 'Mumbo Jumbo': 339, 'Mycom': 340, 'Myelin Media': 341, 'Mystique': 342, 'NCS': 343, 'NCSoft': 344, 'NDA Productions': 345, 'NEC': 346, 'NEC Interchannel': 347, 'NINTENDO': 348, 'Namco Bandai Games': 349, 'Natsume': 350, 'Navarre Corp': 351, 'Naxat Soft': 352, 'Neko Entertainment': 353, 'NetRevo': 354, 'New': 355, 'New World Computing': 356, 'NewKidCo': 357, 'Nexon': 358, 'Nichibutsu': 359, 'Nihon Falcom Corporation': 360, 'Nintendo': 361, 'Nippon Amuse': 362, 'Nippon Columbia': 363, 'Nippon Ichi Software': 364, 'Nippon Telenet': 365, 'Nitroplus': 366, 'Nobilis': 367, 'Nordcurrent': 368, 'Nordic Games': 369, 'NovaLogic': 370, 'Number None': 371, 'O-Games': 372, 'O3 Entertainment': 373, 'Ocean': 374, 'Office Create': 375, 'On Demand': 376, 'Ongakukan': 377, 'Origin Systems': 378, 'Otomate': 379, 'Oxygen Interactive': 380, 'P2 Games': 381, 'PM Studios': 382, 'PQube': 383, 'Pacific Century Cyber Works': 384, 'Pack In Soft': 385, 'Pack-In-Video': 386, 'Palcom': 387, 'Panther Software': 388, 'Paon': 389, 'Paon Corporation': 390, 'Paradox Development': 391, 'Paradox Interactive': 392, 'Parker Bros.': 393, 'Performance Designed Products': 394, 'Phantagram': 395, 'Phantom EFX': 396, 'Phenomedia': 397, 'Phoenix Games': 398, 'Piacci': 399, 'Pinnacle': 400, 'Pioneer LDC': 401, 'Play It': 402, 'PlayV': 403, 'Playlogic Game Factory': 404, 'Playmates': 405, 'Playmore': 406, 'Plenty': 407, 'Pony Canyon': 408, 'PopCap Games': 409, 'PopTop Software': 410, 'Popcorn Arcade': 411, 'Pow': 412, 'Princess Soft': 413, 'Prototype': 414, 'Psygnosis': 415, 'Quelle': 416, 'Quest': 417, 'Quinrose': 418, 'Quintet': 419, 'RED Entertainment': 420, 'RTL': 421, 'Rage Software': 422, 'Rain Games': 423, 'Rebellion': 424, 'Rebellion Developments': 425, 'Red Orb': 426, 'Red Storm Entertainment': 427, 'RedOctane': 428, 'Reef Entertainment': 429, 'Revolution (Japan)': 430, 'Revolution Software': 431, 'Rising Star Games': 432, 'Riverhillsoft': 433, 'Rocket Company': 434, 'Rondomedia': 435, 'Russel': 436, 'SCS Software': 437, 'SCi': 438, 'SNK': 439, 'SNK Playmore': 440, 'SPS': 441, 'SSI': 442, 'Sammy Corporation': 443, 'Saurus': 444, 'Scholastic Inc.': 445, 'Screenlife': 446, 'Sears': 447, 'Sega': 448, 'Seta Corporation': 449, 'Seventh Chord': 450, 'Shogakukan': 451, 'Simon & Schuster Interactive': 452, 'Slightly Mad Studios': 453, 'Slitherine Software': 454, 'Societa': 455, 'Sold Out': 456, 'Sonnet': 457, 'Sony Computer Entertainment': 458, 'Sony Computer Entertainment America': 459, 'Sony Computer Entertainment Europe': 460, 'Sony Music Entertainment': 461, 'Sony Online Entertainment': 462, 'SouthPeak Games': 463, 'Spike': 464, 'Square': 465, 'Square EA': 466, 'Square Enix': 467, 'SquareSoft': 468, 'Stainless Games': 469, 'Starfish': 470, 'Starpath Corp.': 471, 'Sting': 472, 'Storm City Games': 473, 'Strategy First': 474, 'Success': 475, 'Summitsoft': 476, 'Sunflowers': 477, 'Sunrise Interactive': 478, 'Sunsoft': 479, 'Sweets': 480, 'Swing! Entertainment': 481, 'Syscom': 482, 'System 3': 483, 'System 3 Arcade Software': 484, 'System Soft': 485, 'T&E Soft': 486, 'TDK Core': 487, 'TDK Mediactive': 488, 'TGL': 489, 'THQ': 490, 'TOHO': 491, 'TYO': 492, 'Taito': 493, 'Takara': 494, 'Takara Tomy': 495, 'Take-Two Interactive': 496, 'Takuyo': 497, 'TalonSoft': 498, 'Team17 Software': 499, 'TechnoSoft': 500, 'Technos Japan Corporation': 501, 'Tecmo Koei': 502, 'Telegames': 503, 'Telltale Games': 504, 'Telstar': 505, 'Tetris Online': 506, 'The Adventure Company': 507, 'The Learning Company': 508, 'Tigervision': 509, 'Time Warner Interactive': 510, 'Titus': 511, 'Tivola': 512, 'Tommo': 513, 'Tomy Corporation': 514, 'TopWare Interactive': 515, 'Touchstone': 516, 'Tradewest': 517, 'Trion Worlds': 518, 'Tripwire Interactive': 519, 'Tru Blu Entertainment': 520, 'Tryfirst': 521, 'Type-Moon': 522, 'U.S. Gold': 523, 'UEP Systems': 524, 'UFO Interactive': 525, 'UIG Entertainment': 526, 'Ubisoft': 527, 'Ubisoft Annecy': 528, 'Ultravision': 529, 'Universal Gamex': 530, 'Universal Interactive': 531, 'Unknown': 532, 'Valcon Games': 533, 'ValuSoft': 534, 'Valve': 535, 'Valve Software': 536, 'Vap': 537, 'Vatical Entertainment': 538, 'Vic Tokai': 539, 'Victor Interactive': 540, 'Video System': 541, 'Views': 542, 'Vir2L Studios': 543, 'Virgin Interactive': 544, 'Virtual Play Games': 545, 'Visco': 546, 'Vivendi Games': 547, 'Wanadoo': 548, 'Warashi': 549, 'Wargaming.net': 550, 'Warner Bros. Interactive Entertainment': 551, 'Warp': 552, 'WayForward Technologies': 553, 'Westwood Studios': 554, 'White Park Bay Software': 555, 'Wizard Video Games': 556, 'XS Games': 557, 'Xicat Interactive': 558, 'Xing Entertainment': 559, 'Xplosiv': 560, 'Xseed Games': 561, 'Yacht Club Games': 562, 'Yamasa Entertainment': 563, 'Yeti': 564, \"Yuke's\": 565, 'Yumedia': 566, 'Zenrin': 567, 'Zoo Digital Publishing': 568, 'Zoo Games': 569, 'Zushi Games': 570, 'bitComposer Games': 571, 'dramatic create': 572, 'fonfun': 573, 'iWin': 574, 'id Software': 575, 'imageepoch Inc.': 576, 'inXile Entertainment': 577, 'missingvalue': 578, 'mixi, Inc': 579, 'nintendo': 580, 'responDESIGN': 581}\n",
            "Console unique values: [16 29  7 17 28 19 26  4 10 11 13 15  2  6 20 18 30 23  0 27 21  5 12  8\n",
            " 14  3  1 25 24 22  9]\n",
            "Genre unique values: [10  1  8  7  0  6  3  5  9  4 11  2]\n",
            "Publisher unique values: [138.  85. 418. 177. 349.  53.  21. 111. 264. 527. 580. 435. 361.  57.\n",
            " 368.   7. 107. 212. 112. 120.  17. 490. 448. 458. 137. 551.  61. 463.\n",
            " 415.  56.  10. 304. 464. 189. 547. 122.  58. 504. 172. 339. 295.  87.\n",
            " 297. 160. 386.  43. 103. 364.  63.   6. 302.  47. 293. 460. 298. 496.\n",
            "  83.  nan 203. 275. 224. 109. 286. 208. 306. 570. 230. 383.  13. 541.\n",
            " 532.  19. 128. 507.  68. 257. 322. 171. 324. 290. 544. 502. 414. 200.\n",
            " 571. 315. 149. 404. 246. 265. 116. 108.  30.  86. 174.  20. 493.  67.\n",
            " 369.  70. 572. 126.   2. 568. 373. 164. 228. 468. 442. 241.  77. 263.\n",
            " 146. 262. 409. 540. 470.  91. 101. 338.  66. 543.  99. 376. 350. 142.\n",
            "  12. 232. 282. 516. 319. 475. 259. 421. 229.   4. 353. 326. 488.  37.\n",
            " 317. 211. 569.  95.  11.  39. 331. 467.  74. 288. 165. 240.  27. 198.\n",
            " 325. 525. 403. 221. 348. 439. 508.  75. 139. 432. 505. 207. 237. 446.\n",
            " 473. 121. 285. 511. 283. 249. 300. 225. 255.  84.  60. 191. 531. 272.\n",
            " 557. 204. 449. 269. 411. 515.  50. 273.  18.  15. 238. 560. 199. 182.\n",
            " 434.  35. 408. 347. 479. 472. 104.  46. 412. 346. 533. 223. 114.   0.\n",
            " 355. 253. 371.  90. 156. 447. 214. 279.  55. 431. 184. 132. 166. 169.\n",
            "  51. 144. 321.  23. 337. 545. 429. 469.  94. 367. 487.  72. 402. 162.\n",
            "  82. 380. 372. 462. 148. 398.  88. 494.  98. 227. 392. 391. 336. 243.\n",
            " 281.  26. 419.  59. 554. 438. 375. 524. 197. 316. 474. 170. 397. 539.\n",
            " 476. 278. 134. 342. 480. 565. 276. 390. 389. 115. 294. 193. 161. 396.\n",
            " 528. 351.  89. 305. 308. 518. 370. 154.  14. 422. 113.  49. 311. 247.\n",
            " 234.  79. 215. 345. 542. 153. 445. 382.  52. 440. 206. 251. 520. 400.\n",
            " 575. 357. 451. 118.  93. 159. 366. 512.  62. 561. 183. 125. 356. 481.\n",
            " 416. 437.  81.  28. 374. 534. 252. 399. 231. 202.  29. 526. 292. 548.\n",
            " 522. 484. 260. 413. 466. 465. 471. 105. 393. 256.  64. 436. 180. 270.\n",
            "  78. 443.  54.  36. 157. 381.   8. 150. 553. 133. 143. 478. 344. 428.\n",
            " 188. 323. 187. 201. 556. 258.  69. 441. 486. 385. 455. 106. 176. 537.\n",
            " 363. 254. 307. 280. 303.  73. 513. 503. 226. 444.  76. 509. 185. 574.\n",
            " 492. 495. 523. 222.  96. 163. 559. 140. 450. 529. 117. 333.  42. 330.\n",
            "   1. 102. 194. 489. 334. 477. 564. 205. 343. 155. 536. 277. 167. 110.\n",
            " 514. 384. 299. 181. 312.  65.  97. 233. 152. 173.  16. 358. 136. 135.\n",
            " 558. 424. 454. 362. 335. 127. 567. 459. 485. 332. 579.  40. 329.  80.\n",
            " 296. 426. 313. 220. 130. 401. 379. 352. 360.   9. 301. 359. 168. 457.\n",
            " 261. 219. 289. 195. 452. 151. 210.  44. 482. 310. 244. 147. 365.  34.\n",
            " 395. 510.  32. 538. 535.  33.  38. 250. 248. 453. 190. 483. 407. 196.\n",
            " 291. 377. 410. 491. 552. 267. 519.  25. 274. 213. 119. 427.  31. 328.\n",
            " 420. 266. 124. 271. 245. 100. 497. 179. 284. 178. 562. 318.  48. 309.\n",
            " 129. 235. 242. 576. 217. 433. 236. 388. 461. 498. 394. 341. 141. 340.\n",
            "   5. 158. 501. 239. 131. 145. 417. 387. 566. 423. 506. 209. 546. 216.\n",
            " 406.  92.  71.  45. 218. 500.  24. 549. 430. 354. 123. 327. 192. 405.\n",
            " 175. 577. 186. 378. 517. 320. 287. 555. 573.   3. 550.  22. 499. 456.\n",
            " 521. 530. 563.  41. 581. 268. 425. 314.]\n",
            "Won_an_award unique values: [0 1]\n",
            "Name unique values: [   49    50    51 ... 11465 11466 11467]\n"
          ],
          "name": "stdout"
        }
      ]
    },
    {
      "cell_type": "markdown",
      "metadata": {
        "id": "b-2pJu-GP6Ie"
      },
      "source": [
        "# Imputation"
      ]
    },
    {
      "cell_type": "code",
      "metadata": {
        "colab": {
          "base_uri": "https://localhost:8080/",
          "height": 204
        },
        "id": "5sx8242fPiAS",
        "outputId": "535dba77-db85-421f-86c8-a2b6676e9811"
      },
      "source": [
        "# Imputing the missing values\n",
        "#Instance of Knn imputer\n",
        "imp = KNNImputer(n_neighbors=12)\n",
        "\n",
        "# Imputing the df, i kept the columns in df_columns\n",
        "df_columns = df.columns\n",
        "df = pd.DataFrame(imp.fit_transform(df), columns=df_columns)\n",
        "df.head()"
      ],
      "execution_count": null,
      "outputs": [
        {
          "output_type": "execute_result",
          "data": {
            "text/html": [
              "<div>\n",
              "<style scoped>\n",
              "    .dataframe tbody tr th:only-of-type {\n",
              "        vertical-align: middle;\n",
              "    }\n",
              "\n",
              "    .dataframe tbody tr th {\n",
              "        vertical-align: top;\n",
              "    }\n",
              "\n",
              "    .dataframe thead th {\n",
              "        text-align: right;\n",
              "    }\n",
              "</style>\n",
              "<table border=\"1\" class=\"dataframe\">\n",
              "  <thead>\n",
              "    <tr style=\"text-align: right;\">\n",
              "      <th></th>\n",
              "      <th>Name</th>\n",
              "      <th>Console</th>\n",
              "      <th>Year</th>\n",
              "      <th>Genre</th>\n",
              "      <th>Publisher</th>\n",
              "      <th>NorthAmerica_Sales</th>\n",
              "      <th>Europe_Sales</th>\n",
              "      <th>Japan_Sales</th>\n",
              "      <th>RestofWorld_Sales</th>\n",
              "      <th>Total_Sales</th>\n",
              "      <th>Consumer_rating</th>\n",
              "      <th>Won_an_award</th>\n",
              "    </tr>\n",
              "  </thead>\n",
              "  <tbody>\n",
              "    <tr>\n",
              "      <th>0</th>\n",
              "      <td>49.0</td>\n",
              "      <td>16.0</td>\n",
              "      <td>2002.0</td>\n",
              "      <td>10.0</td>\n",
              "      <td>138.0</td>\n",
              "      <td>0.21</td>\n",
              "      <td>0.17</td>\n",
              "      <td>0.16</td>\n",
              "      <td>0.06</td>\n",
              "      <td>0.59</td>\n",
              "      <td>79.0</td>\n",
              "      <td>0.0</td>\n",
              "    </tr>\n",
              "    <tr>\n",
              "      <th>1</th>\n",
              "      <td>49.0</td>\n",
              "      <td>29.0</td>\n",
              "      <td>2002.0</td>\n",
              "      <td>10.0</td>\n",
              "      <td>138.0</td>\n",
              "      <td>0.14</td>\n",
              "      <td>0.04</td>\n",
              "      <td>0.00</td>\n",
              "      <td>0.01</td>\n",
              "      <td>0.19</td>\n",
              "      <td>40.0</td>\n",
              "      <td>0.0</td>\n",
              "    </tr>\n",
              "    <tr>\n",
              "      <th>2</th>\n",
              "      <td>49.0</td>\n",
              "      <td>7.0</td>\n",
              "      <td>2002.0</td>\n",
              "      <td>10.0</td>\n",
              "      <td>138.0</td>\n",
              "      <td>0.04</td>\n",
              "      <td>0.01</td>\n",
              "      <td>0.00</td>\n",
              "      <td>0.00</td>\n",
              "      <td>0.05</td>\n",
              "      <td>28.0</td>\n",
              "      <td>0.0</td>\n",
              "    </tr>\n",
              "    <tr>\n",
              "      <th>3</th>\n",
              "      <td>50.0</td>\n",
              "      <td>17.0</td>\n",
              "      <td>2010.0</td>\n",
              "      <td>10.0</td>\n",
              "      <td>138.0</td>\n",
              "      <td>0.30</td>\n",
              "      <td>0.64</td>\n",
              "      <td>0.07</td>\n",
              "      <td>0.22</td>\n",
              "      <td>1.23</td>\n",
              "      <td>82.0</td>\n",
              "      <td>1.0</td>\n",
              "    </tr>\n",
              "    <tr>\n",
              "      <th>4</th>\n",
              "      <td>50.0</td>\n",
              "      <td>28.0</td>\n",
              "      <td>2010.0</td>\n",
              "      <td>10.0</td>\n",
              "      <td>138.0</td>\n",
              "      <td>0.32</td>\n",
              "      <td>0.43</td>\n",
              "      <td>0.02</td>\n",
              "      <td>0.09</td>\n",
              "      <td>0.86</td>\n",
              "      <td>52.0</td>\n",
              "      <td>0.0</td>\n",
              "    </tr>\n",
              "  </tbody>\n",
              "</table>\n",
              "</div>"
            ],
            "text/plain": [
              "   Name  Console    Year  ...  Total_Sales  Consumer_rating  Won_an_award\n",
              "0  49.0     16.0  2002.0  ...         0.59             79.0           0.0\n",
              "1  49.0     29.0  2002.0  ...         0.19             40.0           0.0\n",
              "2  49.0      7.0  2002.0  ...         0.05             28.0           0.0\n",
              "3  50.0     17.0  2010.0  ...         1.23             82.0           1.0\n",
              "4  50.0     28.0  2010.0  ...         0.86             52.0           0.0\n",
              "\n",
              "[5 rows x 12 columns]"
            ]
          },
          "metadata": {
            "tags": []
          },
          "execution_count": 118
        }
      ]
    },
    {
      "cell_type": "code",
      "metadata": {
        "colab": {
          "base_uri": "https://localhost:8080/"
        },
        "id": "K39T-sEMGAAj",
        "outputId": "0244e110-7b45-4d20-9592-54fc6da00f8b"
      },
      "source": [
        "#Checking if there are any na's left\n",
        "na_status(df)"
      ],
      "execution_count": null,
      "outputs": [
        {
          "output_type": "stream",
          "text": [
            "                    Total NaN  NaN %\n",
            "Won_an_award                0    0.0\n",
            "Consumer_rating             0    0.0\n",
            "Total_Sales                 0    0.0\n",
            "RestofWorld_Sales           0    0.0\n",
            "Japan_Sales                 0    0.0\n",
            "Europe_Sales                0    0.0\n",
            "NorthAmerica_Sales          0    0.0\n",
            "Publisher                   0    0.0\n",
            "Genre                       0    0.0\n",
            "Year                        0    0.0\n"
          ],
          "name": "stdout"
        }
      ]
    },
    {
      "cell_type": "code",
      "metadata": {
        "colab": {
          "base_uri": "https://localhost:8080/",
          "height": 419
        },
        "id": "1wdd6bFQztB1",
        "outputId": "240d36fb-a1f7-40ed-ef12-14fb98e78465"
      },
      "source": [
        "df"
      ],
      "execution_count": null,
      "outputs": [
        {
          "output_type": "execute_result",
          "data": {
            "text/html": [
              "<div>\n",
              "<style scoped>\n",
              "    .dataframe tbody tr th:only-of-type {\n",
              "        vertical-align: middle;\n",
              "    }\n",
              "\n",
              "    .dataframe tbody tr th {\n",
              "        vertical-align: top;\n",
              "    }\n",
              "\n",
              "    .dataframe thead th {\n",
              "        text-align: right;\n",
              "    }\n",
              "</style>\n",
              "<table border=\"1\" class=\"dataframe\">\n",
              "  <thead>\n",
              "    <tr style=\"text-align: right;\">\n",
              "      <th></th>\n",
              "      <th>Name</th>\n",
              "      <th>Console</th>\n",
              "      <th>Year</th>\n",
              "      <th>Genre</th>\n",
              "      <th>Publisher</th>\n",
              "      <th>NorthAmerica_Sales</th>\n",
              "      <th>Europe_Sales</th>\n",
              "      <th>Japan_Sales</th>\n",
              "      <th>RestofWorld_Sales</th>\n",
              "      <th>Total_Sales</th>\n",
              "      <th>Consumer_rating</th>\n",
              "      <th>Won_an_award</th>\n",
              "    </tr>\n",
              "  </thead>\n",
              "  <tbody>\n",
              "    <tr>\n",
              "      <th>0</th>\n",
              "      <td>49.0</td>\n",
              "      <td>16.0</td>\n",
              "      <td>2002.0</td>\n",
              "      <td>10.0</td>\n",
              "      <td>138.0</td>\n",
              "      <td>0.21</td>\n",
              "      <td>0.170000</td>\n",
              "      <td>0.16</td>\n",
              "      <td>0.06</td>\n",
              "      <td>0.59</td>\n",
              "      <td>79.0</td>\n",
              "      <td>0.0</td>\n",
              "    </tr>\n",
              "    <tr>\n",
              "      <th>1</th>\n",
              "      <td>49.0</td>\n",
              "      <td>29.0</td>\n",
              "      <td>2002.0</td>\n",
              "      <td>10.0</td>\n",
              "      <td>138.0</td>\n",
              "      <td>0.14</td>\n",
              "      <td>0.040000</td>\n",
              "      <td>0.00</td>\n",
              "      <td>0.01</td>\n",
              "      <td>0.19</td>\n",
              "      <td>40.0</td>\n",
              "      <td>0.0</td>\n",
              "    </tr>\n",
              "    <tr>\n",
              "      <th>2</th>\n",
              "      <td>49.0</td>\n",
              "      <td>7.0</td>\n",
              "      <td>2002.0</td>\n",
              "      <td>10.0</td>\n",
              "      <td>138.0</td>\n",
              "      <td>0.04</td>\n",
              "      <td>0.010000</td>\n",
              "      <td>0.00</td>\n",
              "      <td>0.00</td>\n",
              "      <td>0.05</td>\n",
              "      <td>28.0</td>\n",
              "      <td>0.0</td>\n",
              "    </tr>\n",
              "    <tr>\n",
              "      <th>3</th>\n",
              "      <td>50.0</td>\n",
              "      <td>17.0</td>\n",
              "      <td>2010.0</td>\n",
              "      <td>10.0</td>\n",
              "      <td>138.0</td>\n",
              "      <td>0.30</td>\n",
              "      <td>0.640000</td>\n",
              "      <td>0.07</td>\n",
              "      <td>0.22</td>\n",
              "      <td>1.23</td>\n",
              "      <td>82.0</td>\n",
              "      <td>1.0</td>\n",
              "    </tr>\n",
              "    <tr>\n",
              "      <th>4</th>\n",
              "      <td>50.0</td>\n",
              "      <td>28.0</td>\n",
              "      <td>2010.0</td>\n",
              "      <td>10.0</td>\n",
              "      <td>138.0</td>\n",
              "      <td>0.32</td>\n",
              "      <td>0.430000</td>\n",
              "      <td>0.02</td>\n",
              "      <td>0.09</td>\n",
              "      <td>0.86</td>\n",
              "      <td>52.0</td>\n",
              "      <td>0.0</td>\n",
              "    </tr>\n",
              "    <tr>\n",
              "      <th>...</th>\n",
              "      <td>...</td>\n",
              "      <td>...</td>\n",
              "      <td>...</td>\n",
              "      <td>...</td>\n",
              "      <td>...</td>\n",
              "      <td>...</td>\n",
              "      <td>...</td>\n",
              "      <td>...</td>\n",
              "      <td>...</td>\n",
              "      <td>...</td>\n",
              "      <td>...</td>\n",
              "      <td>...</td>\n",
              "    </tr>\n",
              "    <tr>\n",
              "      <th>16610</th>\n",
              "      <td>11464.0</td>\n",
              "      <td>28.0</td>\n",
              "      <td>2012.0</td>\n",
              "      <td>10.0</td>\n",
              "      <td>6.0</td>\n",
              "      <td>0.00</td>\n",
              "      <td>0.394167</td>\n",
              "      <td>0.00</td>\n",
              "      <td>0.02</td>\n",
              "      <td>0.19</td>\n",
              "      <td>57.0</td>\n",
              "      <td>0.0</td>\n",
              "    </tr>\n",
              "    <tr>\n",
              "      <th>16611</th>\n",
              "      <td>11465.0</td>\n",
              "      <td>26.0</td>\n",
              "      <td>2013.0</td>\n",
              "      <td>3.0</td>\n",
              "      <td>297.0</td>\n",
              "      <td>0.14</td>\n",
              "      <td>0.110000</td>\n",
              "      <td>0.00</td>\n",
              "      <td>0.03</td>\n",
              "      <td>0.27</td>\n",
              "      <td>60.0</td>\n",
              "      <td>0.0</td>\n",
              "    </tr>\n",
              "    <tr>\n",
              "      <th>16612</th>\n",
              "      <td>11465.0</td>\n",
              "      <td>30.0</td>\n",
              "      <td>2013.0</td>\n",
              "      <td>3.0</td>\n",
              "      <td>297.0</td>\n",
              "      <td>0.17</td>\n",
              "      <td>0.050000</td>\n",
              "      <td>0.00</td>\n",
              "      <td>0.02</td>\n",
              "      <td>0.23</td>\n",
              "      <td>59.0</td>\n",
              "      <td>0.0</td>\n",
              "    </tr>\n",
              "    <tr>\n",
              "      <th>16613</th>\n",
              "      <td>11466.0</td>\n",
              "      <td>19.0</td>\n",
              "      <td>2008.0</td>\n",
              "      <td>7.0</td>\n",
              "      <td>156.0</td>\n",
              "      <td>0.00</td>\n",
              "      <td>0.000000</td>\n",
              "      <td>0.02</td>\n",
              "      <td>0.00</td>\n",
              "      <td>0.02</td>\n",
              "      <td>14.0</td>\n",
              "      <td>0.0</td>\n",
              "    </tr>\n",
              "    <tr>\n",
              "      <th>16614</th>\n",
              "      <td>11467.0</td>\n",
              "      <td>2.0</td>\n",
              "      <td>2013.0</td>\n",
              "      <td>0.0</td>\n",
              "      <td>349.0</td>\n",
              "      <td>0.00</td>\n",
              "      <td>0.000000</td>\n",
              "      <td>0.05</td>\n",
              "      <td>0.00</td>\n",
              "      <td>0.05</td>\n",
              "      <td>19.0</td>\n",
              "      <td>0.0</td>\n",
              "    </tr>\n",
              "  </tbody>\n",
              "</table>\n",
              "<p>16615 rows × 12 columns</p>\n",
              "</div>"
            ],
            "text/plain": [
              "          Name  Console    Year  ...  Total_Sales  Consumer_rating  Won_an_award\n",
              "0         49.0     16.0  2002.0  ...         0.59             79.0           0.0\n",
              "1         49.0     29.0  2002.0  ...         0.19             40.0           0.0\n",
              "2         49.0      7.0  2002.0  ...         0.05             28.0           0.0\n",
              "3         50.0     17.0  2010.0  ...         1.23             82.0           1.0\n",
              "4         50.0     28.0  2010.0  ...         0.86             52.0           0.0\n",
              "...        ...      ...     ...  ...          ...              ...           ...\n",
              "16610  11464.0     28.0  2012.0  ...         0.19             57.0           0.0\n",
              "16611  11465.0     26.0  2013.0  ...         0.27             60.0           0.0\n",
              "16612  11465.0     30.0  2013.0  ...         0.23             59.0           0.0\n",
              "16613  11466.0     19.0  2008.0  ...         0.02             14.0           0.0\n",
              "16614  11467.0      2.0  2013.0  ...         0.05             19.0           0.0\n",
              "\n",
              "[16615 rows x 12 columns]"
            ]
          },
          "metadata": {
            "tags": []
          },
          "execution_count": 120
        }
      ]
    },
    {
      "cell_type": "markdown",
      "metadata": {
        "id": "MoORYYJ3w8Xa"
      },
      "source": [
        "Now i will build a model to predict the sales of a game based on its console, genre, year and publisher, and wether or not it will win an award\n",
        "\n",
        "---\n",
        "\n"
      ]
    },
    {
      "cell_type": "code",
      "metadata": {
        "id": "lPzN7tALysGX"
      },
      "source": [
        "# Splitting the data into training and validation sets\n",
        "vg_train, vg_test = train_test_split(df, test_size = .25, random_state = 42)"
      ],
      "execution_count": null,
      "outputs": []
    },
    {
      "cell_type": "code",
      "metadata": {
        "colab": {
          "base_uri": "https://localhost:8080/",
          "height": 694
        },
        "id": "6QSvN3mYxHm4",
        "outputId": "61ff9fd6-9597-44e4-afdf-c698a63f234f"
      },
      "source": [
        "# Creating the layers\n",
        "input_sales = Input(shape=(1,))\n",
        "lstm1 = Dense(120)(input_sales)\n",
        "dropout = Dropout(rate=0.2)(lstm1)\n",
        "\n",
        "input_console = Input(shape=(1,))\n",
        "dense2 = Dense(100)(input_console)\n",
        "\n",
        "dense1 = Concatenate()([dropout,dense2])\n",
        "output1 = Dense(1)(dense1)\n",
        "output2 = Dense(1, activation=\"sigmoid\")(dense1)\n",
        "\n",
        "#input3 = Input(shape=(1,))\n",
        "#input4 = Input(shape=(1,))\n",
        "\n",
        "#output1 = Dense(1)\n",
        "#output2 = Dense(1)\n",
        "\n",
        "loss = [\"mean_absolute_error\"]\n",
        "model = Model(\n",
        "    [input_sales, input_console],\n",
        "    [output1,output2])\n",
        "\n",
        "# Plot the model\n",
        "plot_model(model, to_file=\"model.png\")\n",
        "# Display the image\n",
        "data = plt.imread('model.png')\n",
        "plt.imshow(data)\n",
        "plt.show()\n",
        "\n",
        "model.compile(optimizer=\"adam\", loss= [\"mean_absolute_error\", \"binary_crossentropy\"])\n",
        "model.summary()"
      ],
      "execution_count": null,
      "outputs": [
        {
          "output_type": "display_data",
          "data": {
            "image/png": "[encoded data removed]",
            "text/plain": [
              "<Figure size 432x288 with 1 Axes>"
            ]
          },
          "metadata": {
            "tags": [],
            "needs_background": "light"
          }
        },
        {
          "output_type": "stream",
          "text": [
            "Model: \"model_13\"\n",
            "__________________________________________________________________________________________________\n",
            "Layer (type)                    Output Shape         Param #     Connected to                     \n",
            "==================================================================================================\n",
            "input_30 (InputLayer)           [(None, 1)]          0                                            \n",
            "__________________________________________________________________________________________________\n",
            "dense_45 (Dense)                (None, 120)          240         input_30[0][0]                   \n",
            "__________________________________________________________________________________________________\n",
            "input_31 (InputLayer)           [(None, 1)]          0                                            \n",
            "__________________________________________________________________________________________________\n",
            "dropout_14 (Dropout)            (None, 120)          0           dense_45[0][0]                   \n",
            "__________________________________________________________________________________________________\n",
            "dense_46 (Dense)                (None, 100)          200         input_31[0][0]                   \n",
            "__________________________________________________________________________________________________\n",
            "concatenate_14 (Concatenate)    (None, 220)          0           dropout_14[0][0]                 \n",
            "                                                                 dense_46[0][0]                   \n",
            "__________________________________________________________________________________________________\n",
            "dense_47 (Dense)                (None, 1)            221         concatenate_14[0][0]             \n",
            "__________________________________________________________________________________________________\n",
            "dense_48 (Dense)                (None, 1)            221         concatenate_14[0][0]             \n",
            "==================================================================================================\n",
            "Total params: 882\n",
            "Trainable params: 882\n",
            "Non-trainable params: 0\n",
            "__________________________________________________________________________________________________\n"
          ],
          "name": "stdout"
        }
      ]
    },
    {
      "cell_type": "code",
      "metadata": {
        "colab": {
          "base_uri": "https://localhost:8080/"
        },
        "id": "DUVxbTPjy7yP",
        "outputId": "410f2117-2912-4067-bcc3-0886f763d946"
      },
      "source": [
        "# Fitting the model in sales and console columns\n",
        "model.fit(\n",
        "    [ #Inputs\n",
        "     vg_train[\"Total_Sales\"], vg_train[\"Console\"]\n",
        "     ],\n",
        "    # Output \n",
        "    [\n",
        "     vg_train[\"Total_Sales\"], vg_train[\"Won_an_award\"]\n",
        "     ],\n",
        "    epochs=20,\n",
        "    verbose=True,\n",
        "    validation_split=.1,\n",
        "    batch_size=128)"
      ],
      "execution_count": null,
      "outputs": [
        {
          "output_type": "stream",
          "text": [
            "Epoch 1/20\n",
            "88/88 [==============================] - 1s 5ms/step - loss: 0.4470 - dense_47_loss: 0.3337 - dense_48_loss: 0.1134 - val_loss: 0.1194 - val_dense_47_loss: 0.0183 - val_dense_48_loss: 0.1011\n",
            "Epoch 2/20\n",
            "88/88 [==============================] - 0s 3ms/step - loss: 0.1378 - dense_47_loss: 0.0424 - dense_48_loss: 0.0954 - val_loss: 0.1088 - val_dense_47_loss: 0.0166 - val_dense_48_loss: 0.0922\n",
            "Epoch 3/20\n",
            "88/88 [==============================] - 0s 3ms/step - loss: 0.1257 - dense_47_loss: 0.0423 - dense_48_loss: 0.0834 - val_loss: 0.0880 - val_dense_47_loss: 0.0057 - val_dense_48_loss: 0.0824\n",
            "Epoch 4/20\n",
            "88/88 [==============================] - 0s 3ms/step - loss: 0.1236 - dense_47_loss: 0.0450 - dense_48_loss: 0.0787 - val_loss: 0.0830 - val_dense_47_loss: 0.0093 - val_dense_48_loss: 0.0738\n",
            "Epoch 5/20\n",
            "88/88 [==============================] - 0s 3ms/step - loss: 0.0972 - dense_47_loss: 0.0332 - dense_48_loss: 0.0640 - val_loss: 0.0753 - val_dense_47_loss: 0.0122 - val_dense_48_loss: 0.0631\n",
            "Epoch 6/20\n",
            "88/88 [==============================] - 0s 3ms/step - loss: 0.0928 - dense_47_loss: 0.0375 - dense_48_loss: 0.0553 - val_loss: 0.0652 - val_dense_47_loss: 0.0062 - val_dense_48_loss: 0.0590\n",
            "Epoch 7/20\n",
            "88/88 [==============================] - 0s 3ms/step - loss: 0.0950 - dense_47_loss: 0.0422 - dense_48_loss: 0.0528 - val_loss: 0.0986 - val_dense_47_loss: 0.0451 - val_dense_48_loss: 0.0535\n",
            "Epoch 8/20\n",
            "88/88 [==============================] - 0s 3ms/step - loss: 0.0918 - dense_47_loss: 0.0433 - dense_48_loss: 0.0484 - val_loss: 0.0542 - val_dense_47_loss: 0.0030 - val_dense_48_loss: 0.0512\n",
            "Epoch 9/20\n",
            "88/88 [==============================] - 0s 3ms/step - loss: 0.0831 - dense_47_loss: 0.0378 - dense_48_loss: 0.0453 - val_loss: 0.0800 - val_dense_47_loss: 0.0299 - val_dense_48_loss: 0.0501\n",
            "Epoch 10/20\n",
            "88/88 [==============================] - 0s 3ms/step - loss: 0.0874 - dense_47_loss: 0.0358 - dense_48_loss: 0.0516 - val_loss: 0.0620 - val_dense_47_loss: 0.0063 - val_dense_48_loss: 0.0558\n",
            "Epoch 11/20\n",
            "88/88 [==============================] - 0s 3ms/step - loss: 0.0922 - dense_47_loss: 0.0410 - dense_48_loss: 0.0512 - val_loss: 0.0603 - val_dense_47_loss: 0.0093 - val_dense_48_loss: 0.0510\n",
            "Epoch 12/20\n",
            "88/88 [==============================] - 0s 3ms/step - loss: 0.0917 - dense_47_loss: 0.0446 - dense_48_loss: 0.0470 - val_loss: 0.0971 - val_dense_47_loss: 0.0481 - val_dense_48_loss: 0.0491\n",
            "Epoch 13/20\n",
            "88/88 [==============================] - 0s 3ms/step - loss: 0.0925 - dense_47_loss: 0.0469 - dense_48_loss: 0.0456 - val_loss: 0.0814 - val_dense_47_loss: 0.0311 - val_dense_48_loss: 0.0503\n",
            "Epoch 14/20\n",
            "88/88 [==============================] - 0s 3ms/step - loss: 0.0862 - dense_47_loss: 0.0380 - dense_48_loss: 0.0482 - val_loss: 0.0585 - val_dense_47_loss: 0.0099 - val_dense_48_loss: 0.0486\n",
            "Epoch 15/20\n",
            "88/88 [==============================] - 0s 3ms/step - loss: 0.0791 - dense_47_loss: 0.0282 - dense_48_loss: 0.0509 - val_loss: 0.0756 - val_dense_47_loss: 0.0227 - val_dense_48_loss: 0.0529\n",
            "Epoch 16/20\n",
            "88/88 [==============================] - 0s 3ms/step - loss: 0.0799 - dense_47_loss: 0.0336 - dense_48_loss: 0.0463 - val_loss: 0.0665 - val_dense_47_loss: 0.0151 - val_dense_48_loss: 0.0514\n",
            "Epoch 17/20\n",
            "88/88 [==============================] - 0s 3ms/step - loss: 0.0707 - dense_47_loss: 0.0280 - dense_48_loss: 0.0427 - val_loss: 0.0943 - val_dense_47_loss: 0.0447 - val_dense_48_loss: 0.0497\n",
            "Epoch 18/20\n",
            "88/88 [==============================] - 0s 3ms/step - loss: 0.1100 - dense_47_loss: 0.0583 - dense_48_loss: 0.0517 - val_loss: 0.1251 - val_dense_47_loss: 0.0745 - val_dense_48_loss: 0.0506\n",
            "Epoch 19/20\n",
            "88/88 [==============================] - 0s 3ms/step - loss: 0.1081 - dense_47_loss: 0.0530 - dense_48_loss: 0.0552 - val_loss: 0.0601 - val_dense_47_loss: 0.0030 - val_dense_48_loss: 0.0571\n",
            "Epoch 20/20\n",
            "88/88 [==============================] - 0s 3ms/step - loss: 0.0785 - dense_47_loss: 0.0347 - dense_48_loss: 0.0438 - val_loss: 0.0892 - val_dense_47_loss: 0.0391 - val_dense_48_loss: 0.0501\n"
          ],
          "name": "stdout"
        },
        {
          "output_type": "execute_result",
          "data": {
            "text/plain": [
              "<tensorflow.python.keras.callbacks.History at 0x7fb38a7963d0>"
            ]
          },
          "metadata": {
            "tags": []
          },
          "execution_count": 124
        }
      ]
    },
    {
      "cell_type": "code",
      "metadata": {
        "colab": {
          "base_uri": "https://localhost:8080/"
        },
        "id": "egX6t50E1dZK",
        "outputId": "9729091d-e490-4406-be4d-d888ad979301"
      },
      "source": [
        "print(model.evaluate(\n",
        "    # inputs\n",
        "    [vg_test[\"Total_Sales\"], vg_test[\"Console\"]],\n",
        "    #Outputs\n",
        "    [vg_test[\"Total_Sales\"], vg_test[\"Won_an_award\"]])\n",
        ")"
      ],
      "execution_count": null,
      "outputs": [
        {
          "output_type": "stream",
          "text": [
            "130/130 [==============================] - 0s 1ms/step - loss: 0.0730 - dense_47_loss: 0.0390 - dense_48_loss: 0.0340\n",
            "[0.07302908599376678, 0.03904277831315994, 0.03398629650473595]\n"
          ],
          "name": "stdout"
        }
      ]
    },
    {
      "cell_type": "code",
      "metadata": {
        "id": "VuN2neNzcfYT"
      },
      "source": [
        ""
      ],
      "execution_count": null,
      "outputs": []
    }
  ]
}